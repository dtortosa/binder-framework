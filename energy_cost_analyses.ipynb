{
 "cells": [
  {
   "cell_type": "code",
   "execution_count": 2,
   "id": "f3d70ab0",
   "metadata": {},
   "outputs": [],
   "source": [
    "#import required packages\n",
    "import pandas as pd\n",
    "import numpy as np"
   ]
  },
  {
   "cell_type": "code",
   "execution_count": 3,
   "id": "96705e82",
   "metadata": {},
   "outputs": [
    {
     "name": "stdout",
     "output_type": "stream",
     "text": [
      "           Postcode  Current fulltime  Job created   Job retain  \\\n",
      "count    450.000000        446.000000    11.000000    14.000000   \n",
      "mean   11024.124444        124.186099    13.545455   297.500000   \n",
      "std      405.126704        392.750810    16.409532   778.404655   \n",
      "min    10001.000000          0.000000     2.000000     4.000000   \n",
      "25%    11101.000000         11.000000     4.000000    15.500000   \n",
      "50%    11205.000000         28.000000    10.000000    42.000000   \n",
      "75%    11232.000000         76.000000    13.500000   160.750000   \n",
      "max    11693.000000       3878.000000    60.000000  2964.000000   \n",
      "\n",
      "       Total Savings  Savings from beginning receiving benefits    Latitude  \\\n",
      "count   4.500000e+02                               4.500000e+02  409.000000   \n",
      "mean    3.943778e+04                               4.234601e+05   40.722293   \n",
      "std     1.345949e+05                               1.936066e+06    0.057503   \n",
      "min    -1.099101e+05                               0.000000e+00   40.555080   \n",
      "25%     1.770948e+03                               1.498421e+04   40.676351   \n",
      "50%     6.101215e+03                               5.431184e+04   40.721144   \n",
      "75%     2.025603e+04                               2.003667e+05   40.752096   \n",
      "max     1.568982e+06                               3.351826e+07   40.890837   \n",
      "\n",
      "        Longitude  Community Board  Council District  Census Tract  \\\n",
      "count  409.000000       409.000000        409.000000    409.000000   \n",
      "mean   -73.942376       317.982885         27.823961   2049.080685   \n",
      "std      0.065553        93.925749         10.984316   7784.674799   \n",
      "min    -74.216206       101.000000          1.000000      1.000000   \n",
      "25%    -73.984843       301.000000         26.000000     20.000000   \n",
      "50%    -73.941706       307.000000         30.000000    199.000000   \n",
      "75%    -73.909345       402.000000         36.000000    543.000000   \n",
      "max    -73.743730       503.000000         51.000000  94201.000000   \n",
      "\n",
      "                BIN           BBL  \n",
      "count  4.010000e+02  4.010000e+02  \n",
      "mean   3.295894e+06  3.163398e+09  \n",
      "std    9.897776e+05  9.483943e+08  \n",
      "min    1.000811e+06  1.000220e+09  \n",
      "25%    3.009889e+06  3.006320e+09  \n",
      "50%    3.336903e+06  3.036760e+09  \n",
      "75%    4.005076e+06  4.003930e+09  \n",
      "max    5.168823e+06  5.070670e+09  \n"
     ]
    }
   ],
   "source": [
    "#read the data\n",
    "energy_pd = pd.read_csv(\"data/Value_of_Energy_Cost_Savings_Program_Savings_for_Businesses_-_FY2020.csv\")\n",
    "\n",
    "#take a look\n",
    "print(energy_pd.describe())"
   ]
  },
  {
   "cell_type": "code",
   "execution_count": 17,
   "id": "cf9dd75f",
   "metadata": {},
   "outputs": [
    {
     "name": "stdout",
     "output_type": "stream",
     "text": [
      "There are 439 different companies\n"
     ]
    }
   ],
   "source": [
    "##how many companies are included?\n",
    "\n",
    "#extract all the value of the column with company names\n",
    "company_names = energy_pd[\"Company Name\"]\n",
    "\n",
    "#extract the unique cases using set\n",
    "unique_company_names = set(company_names)\n",
    "\n",
    "#print results\n",
    "print(f\"There are {len(unique_company_names)} different companies\")"
   ]
  },
  {
   "cell_type": "code",
   "execution_count": 22,
   "id": "0f1489fb",
   "metadata": {},
   "outputs": [
    {
     "name": "stdout",
     "output_type": "stream",
     "text": [
      "The number of jobs created in Queens was 90.0\n"
     ]
    }
   ],
   "source": [
    "##total number of jobs created in Queens\n",
    "\n",
    "#which rows belong to Queens\n",
    "boolean_queens = energy_pd[\"City\"] == \"Queens\"\n",
    "\n",
    "#filter by Queens\n",
    "energy_pd_queens = energy_pd[boolean_queens]\n",
    "\n",
    "#select the column of jobs created\n",
    "jobs_created_queens = energy_pd_queens[\"Job created\"].sum()\n",
    "\n",
    "#print\n",
    "print(f\"The number of jobs created in Queens was {jobs_created_queens}\")"
   ]
  },
  {
   "cell_type": "code",
   "execution_count": 60,
   "id": "15cf7ed4",
   "metadata": {},
   "outputs": [
    {
     "name": "stdout",
     "output_type": "stream",
     "text": [
      "The number of unique email domains is 361\n"
     ]
    }
   ],
   "source": [
    "##unique email domains\n",
    "\n",
    "#select the column with emails\n",
    "company_emails = energy_pd[\"company email\"]\n",
    "\n",
    "#remove NAs\n",
    "company_emails_no_na = company_emails[company_emails.notna()]\n",
    "\n",
    "#for each email, split by \"@\" and the select the domain\n",
    "list_domains = [email.split(\"@\")[-1] for email in company_emails_no_na]\n",
    "\n",
    "#extract the number of unique domains using set\n",
    "n_unique_domains = len(set(list_domains))\n",
    "\n",
    "#print\n",
    "print(f\"The number of unique email domains is {n_unique_domains}\")"
   ]
  },
  {
   "cell_type": "code",
   "execution_count": 24,
   "id": "f574dbe0",
   "metadata": {
    "scrolled": true
   },
   "outputs": [
    {
     "name": "stdout",
     "output_type": "stream",
     "text": [
      "                                                 NTA  Average Savings  \\\n",
      "2                                Crown Heights North      4036.298889   \n",
      "14          Queensbridge-Ravenswood-Long Island City     61830.770625   \n",
      "18                                  Sunset Park West     14316.976875   \n",
      "25                                          Steinway     11227.155714   \n",
      "27          Carroll Gardens-Columbia Street-Red Hook     24337.390000   \n",
      "28                                 East Williamsburg     13990.626364   \n",
      "29                        park-cemetery-etc-Brooklyn     14327.419333   \n",
      "30                                        Greenpoint      9753.649286   \n",
      "31                                           Maspeth      6658.283333   \n",
      "34                                       Hunts Point     39246.016154   \n",
      "43                                     College Point     17159.372857   \n",
      "47              Hunters Point-Sunnyside-West Maspeth     23931.398933   \n",
      "48                                    Manhattanville      2760.888889   \n",
      "49                                    Bushwick South     26140.455000   \n",
      "50                 Battery Park City-Lower Manhattan    469890.796667   \n",
      "54              Springfield Gardens South-Brookville     17757.662000   \n",
      "55  DUMBO-Vinegar Hill-Downtown Brooklyn-Boerum Hill     59950.340000   \n",
      "62                                     East New York     48433.093333   \n",
      "65            SoHo-TriBeCa-Civic Center-Little Italy     37214.024000   \n",
      "67                            Mott Haven-Port Morris     17843.937857   \n",
      "\n",
      "    Total Jobs  \n",
      "2          0.0  \n",
      "14         0.0  \n",
      "18         0.0  \n",
      "25        20.0  \n",
      "27         0.0  \n",
      "28         0.0  \n",
      "29         0.0  \n",
      "30         0.0  \n",
      "31        10.0  \n",
      "34        12.0  \n",
      "43         2.0  \n",
      "47         0.0  \n",
      "48         0.0  \n",
      "49        10.0  \n",
      "50         0.0  \n",
      "54         0.0  \n",
      "55         0.0  \n",
      "62        15.0  \n",
      "65         0.0  \n",
      "67        10.0  \n"
     ]
    }
   ],
   "source": [
    "##work with NTAs having at least 5 businesses\n",
    "\n",
    "#extract NTAs\n",
    "ntas = energy_pd[\"NTA\"]\n",
    "\n",
    "#remove nas\n",
    "ntas = ntas[ntas.notna()]\n",
    "\n",
    "#select unique cases\n",
    "unique_ntas = list(set(ntas))\n",
    "\n",
    "#create df to save results\n",
    "results = pd.DataFrame(unique_ntas)\n",
    "results = results.rename(columns={0:\"NTA\"})\n",
    "results[\"Average Savings\"] = \"\"\n",
    "results[\"Total Jobs\"] = \"\"\n",
    "\n",
    "#for each nta calculate the average savings and jobs creates\n",
    "for nta in unique_ntas:\n",
    "    \n",
    "    #select the rows for nta\n",
    "    selected_subset = energy_pd[energy_pd[\"NTA\"] == nta]\n",
    "    \n",
    "    #get the company names\n",
    "    selected_subset_companies = list(set(selected_subset[\"Company Name\"]))\n",
    "    \n",
    "    #if the number of different businesses is equal or larger than 5\n",
    "    if len(selected_subset_companies) >= 5:\n",
    "        \n",
    "        #calculate the average of savings and jobs within the selected nta\n",
    "        avg_savings = np.mean(selected_subset[\"Total Savings\"])\n",
    "        total_jobs = np.sum(selected_subset[\"Job created\"])\n",
    "        \n",
    "        #save the results for the corresponding NTA\n",
    "        results.loc[results[\"NTA\"] == nta, \"Average Savings\"] = avg_savings\n",
    "        results.loc[results[\"NTA\"] == nta, \"Total Jobs\"] = total_jobs\n",
    "\n",
    "        \n",
    "#convert empty cells to NA\n",
    "results.replace('', np.nan, inplace=True)\n",
    "\n",
    "#remove NAs\n",
    "results.dropna(inplace=True)\n",
    "\n",
    "#see the results\n",
    "print(results)"
   ]
  },
  {
   "cell_type": "code",
   "execution_count": 25,
   "id": "a9ff2def",
   "metadata": {},
   "outputs": [],
   "source": [
    "##save the previous results as csv\n",
    "results.to_csv(\"/media/dftortosa/Windows/Users/dftor/Documents/diego_docs/industry/data_incubator/preparation_courses/12_day_program/day_4/results.csv\", sep=\",\")"
   ]
  }
 ],
 "metadata": {
  "kernelspec": {
   "display_name": "Python 3",
   "language": "python",
   "name": "python3"
  },
  "language_info": {
   "codemirror_mode": {
    "name": "ipython",
    "version": 3
   },
   "file_extension": ".py",
   "mimetype": "text/x-python",
   "name": "python",
   "nbconvert_exporter": "python",
   "pygments_lexer": "ipython3",
   "version": "3.6.9"
  }
 },
 "nbformat": 4,
 "nbformat_minor": 5
}
